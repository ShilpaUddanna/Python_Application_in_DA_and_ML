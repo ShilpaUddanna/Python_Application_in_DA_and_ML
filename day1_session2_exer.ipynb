{
  "nbformat": 4,
  "nbformat_minor": 0,
  "metadata": {
    "colab": {
      "name": "day1 session2 exer.ipynb",
      "provenance": [],
      "collapsed_sections": [],
      "authorship_tag": "ABX9TyNAqSYmk+UvccSMYKf5nDQb",
      "include_colab_link": true
    },
    "kernelspec": {
      "name": "python3",
      "display_name": "Python 3"
    }
  },
  "cells": [
    {
      "cell_type": "markdown",
      "metadata": {
        "id": "view-in-github",
        "colab_type": "text"
      },
      "source": [
        "<a href=\"https://colab.research.google.com/github/ShilpaUddanna/Python_Application_in_DA_and_ML/blob/master/day1_session2_exer.ipynb\" target=\"_parent\"><img src=\"https://colab.research.google.com/assets/colab-badge.svg\" alt=\"Open In Colab\"/></a>"
      ]
    },
    {
      "cell_type": "markdown",
      "metadata": {
        "id": "0_i13wm6siiK",
        "colab_type": "text"
      },
      "source": [
        "# A program to print the triangle\n"
      ]
    },
    {
      "cell_type": "code",
      "metadata": {
        "id": "tXoBumGjswDC",
        "colab_type": "code",
        "colab": {
          "base_uri": "https://localhost:8080/",
          "height": 168
        },
        "outputId": "78a62749-ce7c-4396-c0bb-e5bdfb0b2920"
      },
      "source": [
        "n = int(input(\"Enter The N Value:\"))\n",
        "c=1\n",
        "for i in range(n):\n",
        "  for j in range(i+1):\n",
        "    print(c, end=' ')\n",
        "    c+=1\n",
        "  print(\"\\n\")\n",
        "  c=c-i"
      ],
      "execution_count": null,
      "outputs": [
        {
          "output_type": "stream",
          "text": [
            "Enter The N Value:4\n",
            "1 \n",
            "\n",
            "2 3 \n",
            "\n",
            "3 4 5 \n",
            "\n",
            "4 5 6 7 \n",
            "\n"
          ],
          "name": "stdout"
        }
      ]
    },
    {
      "cell_type": "code",
      "metadata": {
        "id": "LTWESnqxtBr0",
        "colab_type": "code",
        "colab": {
          "base_uri": "https://localhost:8080/",
          "height": 118
        },
        "outputId": "3cb6a5a4-1d39-4863-cdf4-44416bdd7337"
      },
      "source": [
        "n = int(input(\"Enter The Number:\"))\n",
        "for i in range(n):\n",
        "  print(\"*\"*(i+1))"
      ],
      "execution_count": null,
      "outputs": [
        {
          "output_type": "stream",
          "text": [
            "Enter The Number:5\n",
            "*\n",
            "**\n",
            "***\n",
            "****\n",
            "*****\n"
          ],
          "name": "stdout"
        }
      ]
    },
    {
      "cell_type": "code",
      "metadata": {
        "id": "KkdHw5lstNaj",
        "colab_type": "code",
        "colab": {
          "base_uri": "https://localhost:8080/",
          "height": 134
        },
        "outputId": "445fd14e-e759-43da-cdd5-0e389bc41ef0"
      },
      "source": [
        "n = int(input(\"Enter The Number:\"))\n",
        "c=n\n",
        "for i in range(n):\n",
        "  c=c-i\n",
        "  for j in range(i+1):\n",
        "    print(c, end=\" \")\n",
        "    c+=1\n",
        "  c-=1\n",
        "  print(\"\\n\")\n"
      ],
      "execution_count": null,
      "outputs": [
        {
          "output_type": "stream",
          "text": [
            "Enter The Number:3\n",
            "3 \n",
            "\n",
            "2 3 \n",
            "\n",
            "1 2 3 \n",
            "\n"
          ],
          "name": "stdout"
        }
      ]
    },
    {
      "cell_type": "code",
      "metadata": {
        "id": "d3TSWNGQtVap",
        "colab_type": "code",
        "colab": {
          "base_uri": "https://localhost:8080/",
          "height": 134
        },
        "outputId": "25ab0f7b-d3c4-442c-8d7c-fda3534b42de"
      },
      "source": [
        "n = int(input(\"Enter The Number:\"))\n",
        "for i in range(n):\n",
        "  c=n-i\n",
        "  for j in range(n-i):\n",
        "    print(c, end=' ')\n",
        "    c-=1\n",
        "  print(\"\\n\")\n"
      ],
      "execution_count": null,
      "outputs": [
        {
          "output_type": "stream",
          "text": [
            "Enter The Number:3\n",
            "3 2 1 \n",
            "\n",
            "2 1 \n",
            "\n",
            "1 \n",
            "\n"
          ],
          "name": "stdout"
        }
      ]
    },
    {
      "cell_type": "code",
      "metadata": {
        "id": "YuaLmeAGyE86",
        "colab_type": "code",
        "colab": {
          "base_uri": "https://localhost:8080/",
          "height": 269
        },
        "outputId": "fa3d1508-12e4-465d-a60e-5651ebeef632"
      },
      "source": [
        "n = int(input(\"Enter The Number:\"))\n",
        "for i in range(n):\n",
        "  c=i+1\n",
        "  for j in range(n-i):\n",
        "    print(c, end=' ')\n",
        "    c+=1\n",
        "  print(\"\\n\")\n",
        "for i in range(n-1):\n",
        "  c=n-i-1\n",
        "  for j in range(i+2):\n",
        "    print(c, end=' ')\n",
        "    c+=1\n",
        "  print(\"\\n\")"
      ],
      "execution_count": null,
      "outputs": [
        {
          "output_type": "stream",
          "text": [
            "Enter The Number:4\n",
            "1 2 3 4 \n",
            "\n",
            "2 3 4 \n",
            "\n",
            "3 4 \n",
            "\n",
            "4 \n",
            "\n",
            "3 4 \n",
            "\n",
            "2 3 4 \n",
            "\n",
            "1 2 3 4 \n",
            "\n"
          ],
          "name": "stdout"
        }
      ]
    },
    {
      "cell_type": "markdown",
      "metadata": {
        "id": "UZ2EBJFTyetj",
        "colab_type": "text"
      },
      "source": [
        "\n",
        "\n",
        "# The length of a string without using len functions\n"
      ]
    },
    {
      "cell_type": "code",
      "metadata": {
        "id": "AnV3tXEEyY9M",
        "colab_type": "code",
        "colab": {
          "base_uri": "https://localhost:8080/",
          "height": 50
        },
        "outputId": "89ad5f6d-27f0-4c99-b87e-413cc85f61eb"
      },
      "source": [
        "c = 0\n",
        "for i in input(\"Enter The String: \"):\n",
        "    c += 1\n",
        "print(f'The Length Of String Is: {c}')\n"
      ],
      "execution_count": null,
      "outputs": [
        {
          "output_type": "stream",
          "text": [
            "Enter The String: shilpa\n",
            "The Length Of String Is: 6\n"
          ],
          "name": "stdout"
        }
      ]
    },
    {
      "cell_type": "markdown",
      "metadata": {
        "id": "95BUvW77yz1T",
        "colab_type": "text"
      },
      "source": [
        "# The no of words and characters in a string"
      ]
    },
    {
      "cell_type": "code",
      "metadata": {
        "id": "v_cTIgEEy6co",
        "colab_type": "code",
        "colab": {
          "base_uri": "https://localhost:8080/",
          "height": 67
        },
        "outputId": "78c97e79-728e-46e2-dbde-4859be8e9b72"
      },
      "source": [
        "s = input(\"Enter The String: \")\n",
        "c = 0\n",
        "for i in s:\n",
        "    if i == \" \":\n",
        "        c += 1\n",
        "print(f'The Number Of Words In A String Is: {c + 1} \\nThe Number Of Characters In A String Is: {len(s)}')\n"
      ],
      "execution_count": null,
      "outputs": [
        {
          "output_type": "stream",
          "text": [
            "Enter The String: shilpa\n",
            "The Number Of Words In A String Is: 1 \n",
            "The Number Of Characters In A String Is: 6\n"
          ],
          "name": "stdout"
        }
      ]
    },
    {
      "cell_type": "markdown",
      "metadata": {
        "id": "zNdkigF0zB_h",
        "colab_type": "text"
      },
      "source": [
        "# The no of occurrences of a word in a string"
      ]
    },
    {
      "cell_type": "code",
      "metadata": {
        "id": "VrmWNSitze_p",
        "colab_type": "code",
        "colab": {
          "base_uri": "https://localhost:8080/",
          "height": 67
        },
        "outputId": "f950c7d2-ec21-4d7a-b04f-cc81a845a45e"
      },
      "source": [
        "def countOccurences(s, w):   \n",
        "       \n",
        "    return c        \n",
        "s = input(\"Enter The Main String: \").lower()\n",
        "w = input(\"Enter Comparision String: \")\n",
        "a = s.split(\" \") \n",
        "c = 0\n",
        "for i in range(0, len(a)): \n",
        "  if (w == a[i]):\n",
        "    c = c + 1    \n",
        "print(c)"
      ],
      "execution_count": null,
      "outputs": [
        {
          "output_type": "stream",
          "text": [
            "Enter The Main String: alvas institute \n",
            "Enter Comparision String: alvas\n",
            "1\n"
          ],
          "name": "stdout"
        }
      ]
    }
  ]
}