{
  "nbformat": 4,
  "nbformat_minor": 0,
  "metadata": {
    "colab": {
      "name": "day1 session1 exer.ipynb",
      "provenance": [],
      "collapsed_sections": [],
      "authorship_tag": "ABX9TyMOVBeH9g8ObIqCtskvY+BR",
      "include_colab_link": true
    },
    "kernelspec": {
      "name": "python3",
      "display_name": "Python 3"
    }
  },
  "cells": [
    {
      "cell_type": "markdown",
      "metadata": {
        "id": "view-in-github",
        "colab_type": "text"
      },
      "source": [
        "<a href=\"https://colab.research.google.com/github/ShilpaUddanna/Python_Application_in_DA_and_ML/blob/master/day1_session1_exer.ipynb\" target=\"_parent\"><img src=\"https://colab.research.google.com/assets/colab-badge.svg\" alt=\"Open In Colab\"/></a>"
      ]
    },
    {
      "cell_type": "markdown",
      "metadata": {
        "id": "jo46v_L0_k85",
        "colab_type": "text"
      },
      "source": [
        "# The compound interest for the given p,n,r (formula : p(1+n*r/100)n )"
      ]
    },
    {
      "cell_type": "code",
      "metadata": {
        "id": "YfGnmv5w_-zH",
        "colab_type": "code",
        "colab": {
          "base_uri": "https://localhost:8080/",
          "height": 84
        },
        "outputId": "80bd2041-2eb7-45cc-958f-22fb8f74d22a"
      },
      "source": [
        "p = int(input(\"Enter The Principle amount: \"))\n",
        "n = int(input(\"Enter The Number Of Years: \"))\n",
        "r = int(input(\"Enter The Rate Of Interest: \"))\n",
        "print(f\"The Compound Interest Is: {p*(1+n*r/100)**n}\")\n"
      ],
      "execution_count": null,
      "outputs": [
        {
          "output_type": "stream",
          "text": [
            "Enter The Principle amount: 500\n",
            "Enter The Number Of Years: 4\n",
            "Enter The Rate Of Interest: 12\n",
            "The Compound Interest Is: 2398.9260799999997\n"
          ],
          "name": "stdout"
        }
      ]
    },
    {
      "cell_type": "markdown",
      "metadata": {
        "id": "LTEAa9b4ASXi",
        "colab_type": "text"
      },
      "source": [
        "# Convert centegrade to farenheit ( f= 9/5*c+32)"
      ]
    },
    {
      "cell_type": "code",
      "metadata": {
        "id": "DQKmFeT5AYR-",
        "colab_type": "code",
        "colab": {
          "base_uri": "https://localhost:8080/",
          "height": 50
        },
        "outputId": "df7eee23-8d5f-4082-ba74-df0c132810e6"
      },
      "source": [
        "c = int(input(\"Enter The Temperature In Centegrade: \"))\n",
        "print(f\"The Temperature After Converted To Farenheit: {9/5*c+32}\")"
      ],
      "execution_count": null,
      "outputs": [
        {
          "output_type": "stream",
          "text": [
            "Enter The Temperature In Centegrade: 26\n",
            "The Temperature After Converted To Farenheit: 78.80000000000001\n"
          ],
          "name": "stdout"
        }
      ]
    },
    {
      "cell_type": "markdown",
      "metadata": {
        "id": "Ld0vc837AozN",
        "colab_type": "text"
      },
      "source": [
        "# The greater of two nos"
      ]
    },
    {
      "cell_type": "code",
      "metadata": {
        "id": "dGM5Lv7VAtqj",
        "colab_type": "code",
        "colab": {
          "base_uri": "https://localhost:8080/",
          "height": 67
        },
        "outputId": "33748072-d416-4985-9681-c48fdabafa27"
      },
      "source": [
        "m = int(input(\"Enter The First Num: \"))\n",
        "n = int(input(\"Enter The Second Num: \"))\n",
        "if(m>n):\n",
        "  print(f\"{m} Is Greater Than {n}\")\n",
        "else:\n",
        "  print(f\"{n} Is Greater Than {m}\")\n",
        "  "
      ],
      "execution_count": null,
      "outputs": [
        {
          "output_type": "stream",
          "text": [
            "Enter The First Num: 7\n",
            "Enter The Second Num: 10\n",
            "10 Is Greater Than 7\n"
          ],
          "name": "stdout"
        }
      ]
    },
    {
      "cell_type": "markdown",
      "metadata": {
        "id": "tJ-LhDh4BGoy",
        "colab_type": "text"
      },
      "source": [
        "# Finding surface areas of cylinder and cone (2PIrrh, 1/3PIrrh) using function."
      ]
    },
    {
      "cell_type": "code",
      "metadata": {
        "id": "dwJfgp2LBb9j",
        "colab_type": "code",
        "colab": {
          "base_uri": "https://localhost:8080/",
          "height": 118
        },
        "outputId": "77c78b36-5ede-4e5b-9933-7aface42739c"
      },
      "source": [
        "def cylarea(r, h):\n",
        "  return 2*3.14*r**2*h\n",
        "def conearea(r, h):\n",
        "  return 1/3*3.14*r**2*h\n",
        "r1 = int(input(\"Enter The Radius Of Cylinder: \"))\n",
        "h1 = int(input(\"Enter The Height Of Cylinder: \"))\n",
        "print(f\"Surface Area Of Cylinder Is: {cylarea(r1, h1)}\")\n",
        "r2 = int(input(\"Enter The Radius Of Cone: \"))\n",
        "h2 = int(input(\"Enter The Height Of Cone: \"))\n",
        "print(f\"Surface Area Of Cone Is: {conearea(r2, h2)}\")\n"
      ],
      "execution_count": null,
      "outputs": [
        {
          "output_type": "stream",
          "text": [
            "Enter The Radius Of Cylinder: 3\n",
            "Enter The Height Of Cylinder: 4\n",
            "Surface Area Of Cylinder Is: 226.08\n",
            "Enter The Radius Of Cone: 2\n",
            "Enter The Height Of Cone: 4\n",
            "Surface Area Of Cone Is: 16.746666666666666\n"
          ],
          "name": "stdout"
        }
      ]
    },
    {
      "cell_type": "markdown",
      "metadata": {
        "id": "DusM6YqxBnxQ",
        "colab_type": "text"
      },
      "source": [
        "# The greatest of four nos ( using ‘and’ operator) using function."
      ]
    },
    {
      "cell_type": "code",
      "metadata": {
        "id": "u3ExSBblBsdN",
        "colab_type": "code",
        "colab": {
          "base_uri": "https://localhost:8080/",
          "height": 101
        },
        "outputId": "334b7349-f71e-44e1-9a5f-82522206aefe"
      },
      "source": [
        "n1 = int(input(\"Enter The First Number: \"))\n",
        "n2 = int(input(\"Enter The Second Number: \"))\n",
        "n3 = int(input(\"Enter The Third Number: \"))\n",
        "n4 = int(input(\"Enter The Fourth Number: \"))\n",
        "if(n1>n2 and n1>n3 and n1>n4):\n",
        "  print(f\"{n1} Is Greater Than {n2}, {n3}, {n4}\")\n",
        "elif(n2>n1 and n2>n3 and n2>n4):\n",
        "  print(f\"{n2} Is Greater Than {n1}, {n3}, {n4}\")\n",
        "elif(n3>n1 and n3>n2 and n3>n4):\n",
        "  print(f\"{n3} Is Greater Than {n1}, {n2}, {n4}\")\n",
        "else:\n",
        "  print(f\"{n4} Is Greater Than {n1}, {n2}, {n3}\")"
      ],
      "execution_count": null,
      "outputs": [
        {
          "output_type": "stream",
          "text": [
            "Enter The First Number: 9\n",
            "Enter The Second Number: 7\n",
            "Enter The Third Number: 4\n",
            "Enter The Fourth Number: 8\n",
            "9 Is Greater Than 7, 4, 8\n"
          ],
          "name": "stdout"
        }
      ]
    },
    {
      "cell_type": "markdown",
      "metadata": {
        "id": "N1D9-IdRBp6p",
        "colab_type": "text"
      },
      "source": [
        "# A menu program to perform the operations ( ODDorEven, Factorial, ODDNoUptoN, PrimeUptoN ) using functions for two nos with menu choice"
      ]
    },
    {
      "cell_type": "code",
      "metadata": {
        "id": "yNRwKCb0B9ye",
        "colab_type": "code",
        "colab": {
          "base_uri": "https://localhost:8080/",
          "height": 1000
        },
        "outputId": "71ae9902-0b25-4cce-c781-faab567c65f4"
      },
      "source": [
        "loop = 1\n",
        "choice = 0\n",
        "def OddorEven(n):\n",
        "  if(n%2==0):\n",
        "    return True\n",
        "def fact(f):\n",
        "  s=1\n",
        "  while(f>0):\n",
        "    s=s*f\n",
        "    f=f-1\n",
        "  print(f\"Factorial Of {f} Is: {s}\")\n",
        "def Odd(o):\n",
        "  for i in range(o+1):\n",
        "    if(i%2 != 0):\n",
        "      print(i, end=' ')\n",
        "def prime(p):\n",
        "  c=0\n",
        "  print(2, end=' ')\n",
        "  for i in range(3,p+1):\n",
        "    for j in range(2,i):\n",
        "      if(i % j == 0):\n",
        "        c=1\n",
        "        break\n",
        "    if(c==0):\n",
        "      print(i, end=' ')\n",
        "    c=0\n",
        "\n",
        "while loop == 1:\n",
        "    print(\" \")\n",
        "    print (\"your options are:\")\n",
        "    print (\" \")\n",
        "    print(\"1) Odd or Even\")\n",
        "    print(\"2) Factorial\")\n",
        "    print(\"3) Odd Number Upto N\")\n",
        "    print(\"4) Prime Number upto N\")\n",
        "    print(\"5) Quit\")\n",
        "    print(\" \")\n",
        "    try:\n",
        "        choice = int(input(\"Choose your option: \"))\n",
        "    except:\n",
        "        print('please enter a valid number for option')\n",
        "    print(\" \")\n",
        "    if choice == 1:\n",
        "      n = int(input(\"Enter The Number: \"))\n",
        "      if(OddorEven(n)):\n",
        "        print(\"The Number Is Even\")\n",
        "      else:\n",
        "        print(\"The Number Is Odd\")\n",
        "    elif choice == 2:\n",
        "      f = int(input(\"Enter The Number: \"))\n",
        "      fact(f)\n",
        "    elif choice == 3:\n",
        "      o = int(input(\"Enter The Number: \"))\n",
        "      Odd(o)\n",
        "    elif choice == 4:\n",
        "      p = int(input(\"Enter The Number: \"))\n",
        "      prime(p)\n",
        "    elif choice == 5:\n",
        "      loop = 0\n",
        "    else:\n",
        "      print(\"please choice a valid option from 1 to 5\")\n",
        "      choice=0\n"
      ],
      "execution_count": null,
      "outputs": [
        {
          "output_type": "stream",
          "text": [
            " \n",
            "your options are:\n",
            " \n",
            "1) Odd or Even\n",
            "2) Factorial\n",
            "3) Odd Number Upto N\n",
            "4) Prime Number upto N\n",
            "5) Quit\n",
            " \n",
            "Choose your option: 1\n",
            " \n",
            "Enter The Number: 4\n",
            "The Number Is Even\n",
            " \n",
            "your options are:\n",
            " \n",
            "1) Odd or Even\n",
            "2) Factorial\n",
            "3) Odd Number Upto N\n",
            "4) Prime Number upto N\n",
            "5) Quit\n",
            " \n",
            "Choose your option: 2\n",
            " \n",
            "Enter The Number: 4\n",
            "Factorial Of 0 Is: 24\n",
            " \n",
            "your options are:\n",
            " \n",
            "1) Odd or Even\n",
            "2) Factorial\n",
            "3) Odd Number Upto N\n",
            "4) Prime Number upto N\n",
            "5) Quit\n",
            " \n",
            "Choose your option: 3\n",
            " \n",
            "Enter The Number: 16\n",
            "1 3 5 7 9 11 13 15  \n",
            "your options are:\n",
            " \n",
            "1) Odd or Even\n",
            "2) Factorial\n",
            "3) Odd Number Upto N\n",
            "4) Prime Number upto N\n",
            "5) Quit\n",
            " \n",
            "Choose your option: 4\n",
            " \n",
            "Enter The Number: 12\n",
            "2 3 5 7 11  \n",
            "your options are:\n",
            " \n",
            "1) Odd or Even\n",
            "2) Factorial\n",
            "3) Odd Number Upto N\n",
            "4) Prime Number upto N\n",
            "5) Quit\n",
            " \n",
            "Choose your option: 5\n",
            " \n"
          ],
          "name": "stdout"
        }
      ]
    }
  ]
}